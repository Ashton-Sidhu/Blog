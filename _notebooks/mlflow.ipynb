{
 "cells": [
  {
   "cell_type": "markdown",
   "metadata": {},
   "source": [
    "# \"Title\"\n",
    "> \"Awesome summary\"\n",
    "\n",
    "- toc: true\n",
    "- badges: true\n",
    "- comments: true\n",
    "- categories: []\n",
    "- image: images/some_folder/your_image.png"
   ]
  },
  {
   "cell_type": "markdown",
   "metadata": {},
   "source": [
    "```Dockerfile\n",
    "# VERSION \n",
    "# AUTHOR: Ashton Sidhu\n",
    "# DESCRIPTION: Basic MlFlow Tracking Container\n",
    "# BUILD: docker build --rm -t bigsidhu/docker-mlflow .\n",
    "# SOURCE: \n",
    "\n",
    "FROM python:3.7-slim-buster\n",
    "LABEL maintainer=\"Ashton\"\n",
    "\n",
    "# Never prompt the user for choices on installation/configuration of packages\n",
    "ENV DEBIAN_FRONTEND noninteractive\n",
    "ENV TERM linux\n",
    "\n",
    "# MLFlow\n",
    "ARG MLFLOW_VERSION=1.12.0\n",
    "ARG MLFLOW_USER_HOME=/home/mlflow\n",
    "\n",
    "\n",
    "# Define en_US.\n",
    "ENV LANGUAGE en_US.UTF-8\n",
    "ENV LANG en_US.UTF-8\n",
    "ENV LC_ALL en_US.UTF-8\n",
    "ENV LC_CTYPE en_US.UTF-8\n",
    "ENV LC_MESSAGES en_US.UTF-8\n",
    "\n",
    "RUN useradd -ms /bin/bash -d ${MLFLOW_USER_HOME} mlflow \\\n",
    "    && pip install mlflow==$MLFLOW_VERSION \\\n",
    "    && pip install psycopg2-binary \\\n",
    "    && chown -R mlflow: ${MLFLOW_USER_HOME}\n",
    "\n",
    "EXPOSE 5000\n",
    "\n",
    "COPY scripts/entrypoint.sh /entrypoint.sh\n",
    "\n",
    "USER mlflow\n",
    "WORKDIR ${MLFLOW_USER_HOME}\n",
    "ENTRYPOINT [\"/entrypoint.sh\"]\n",
    "```"
   ]
  },
  {
   "cell_type": "markdown",
   "metadata": {},
   "source": [
    "```yaml\n",
    "version: '3.7'\n",
    "services:\n",
    "    postgres:\n",
    "        image: postgres:latest\n",
    "        environment:\n",
    "            - POSTGRES_USER=mlflow\n",
    "            - POSTGRES_PASSWORD=mlflow\n",
    "            - POSTGRES_DB=mlflow\n",
    "            - PGDATA=/var/lib/postgresql/data/pgdata\n",
    "        logging:\n",
    "            options:\n",
    "                max-size: 10m\n",
    "                max-file: \"3\"\n",
    "        volumes:\n",
    "            - ./pgdata:/var/lib/postgresql/data/pgdata\n",
    "\n",
    "    mlflow:\n",
    "        build:\n",
    "            context: .\n",
    "            dockerfile: Dockerfile\n",
    "        image: bigsidhu/mlflow\n",
    "        container_name: mlflow_server\n",
    "        environment:\n",
    "            - DEFAULT_ARTIFACT_ROOT=/home/mlflow/mlruns\n",
    "        depends_on:\n",
    "            - postgres\n",
    "        restart: always\n",
    "        ports:\n",
    "            - \"5000:5000\"\n",
    "        # Extra mounts, i.e for your artifact store if you are using NFS\n",
    "        volumes:\n",
    "            - /mnt/shared/mlruns:/home/mlflow/mlruns\n",
    "```"
   ]
  },
  {
   "cell_type": "markdown",
   "metadata": {},
   "source": [
    "```bash\n",
    "#!/usr/bin/env bash\n",
    "\n",
    "# User-provided configuration must always be respected.\n",
    "#\n",
    "# Therefore, this script must only derives MlFlow MLFLOW__ variables from other variables\n",
    "# when the user did not provide their own configuration.\n",
    "\n",
    "# Global defaults and back-compat\n",
    "POSTGRES_HOST=\"${POSTGRES_HOST:-postgres}\"\n",
    "POSTGRES_PORT=5432\n",
    "POSTGRES_CREDS=\"${POSTGRES_CREDS:-mlflow:mlflow}\"\n",
    "CONN_STRING=\"postgresql+psycopg2://${POSTGRES_CREDS}@${POSTGRES_HOST}:${POSTGRES_PORT}/mlflow${POSTGRES_EXTRAS}\"\n",
    "\n",
    "mlflow server \\\n",
    "    --backend-store-uri \"${CONN_STRING}\" \\\n",
    "    --default-artifact-root \"${DEFAULT_ARTIFACT_ROOT}\" \\\n",
    "    --host 0.0.0.0\n",
    "\n",
    "```"
   ]
  },
  {
   "cell_type": "code",
   "execution_count": 1,
   "metadata": {},
   "outputs": [],
   "source": [
    "try:\n",
    "    import mlflow\n",
    "except:\n",
    "    !pip install mlflow"
   ]
  },
  {
   "cell_type": "code",
   "execution_count": 3,
   "metadata": {},
   "outputs": [
    {
     "name": "stderr",
     "output_type": "stream",
     "text": [
      "/opt/conda/lib/python3.8/site-packages/ipykernel/ipkernel.py:287: DeprecationWarning: `should_run_async` will not call `transform_cell` automatically in the future. Please pass the result to `transformed_cell` argument and any exception that happen during thetransform in `preprocessing_exc_tuple` in IPython 7.17 and above.\n",
      "  and should_run_async(code)\n"
     ]
    }
   ],
   "source": [
    "# The data set used in this example is from http://archive.ics.uci.edu/ml/datasets/Wine+Quality\n",
    "# P. Cortez, A. Cerdeira, F. Almeida, T. Matos and J. Reis.\n",
    "# Modeling wine preferences by data mining from physicochemical properties. In Decision Support Systems, Elsevier, 47(4):547-553, 2009.\n",
    "\n",
    "import os\n",
    "import warnings\n",
    "import sys\n",
    "\n",
    "import pandas as pd\n",
    "import numpy as np\n",
    "from sklearn.metrics import mean_squared_error, mean_absolute_error, r2_score\n",
    "from sklearn.model_selection import train_test_split\n",
    "from sklearn.linear_model import ElasticNet\n",
    "from urllib.parse import urlparse\n",
    "\n",
    "import mlflow\n",
    "import mlflow.sklearn\n",
    "\n",
    "import logging\n",
    "\n",
    "logging.basicConfig(level=logging.WARN)\n",
    "logger = logging.getLogger(__name__)\n",
    "\n",
    "\n",
    "def eval_metrics(actual, pred):\n",
    "    rmse = np.sqrt(mean_squared_error(actual, pred))\n",
    "    mae = mean_absolute_error(actual, pred)\n",
    "    r2 = r2_score(actual, pred)\n",
    "    return rmse, mae, r2"
   ]
  },
  {
   "cell_type": "code",
   "execution_count": 8,
   "metadata": {},
   "outputs": [],
   "source": [
    "mlflow.set_tracking_uri(\"http://192.168.0.10:5000\")"
   ]
  },
  {
   "cell_type": "code",
   "execution_count": 6,
   "metadata": {},
   "outputs": [
    {
     "name": "stderr",
     "output_type": "stream",
     "text": [
      "/opt/conda/lib/python3.8/site-packages/ipykernel/ipkernel.py:287: DeprecationWarning: `should_run_async` will not call `transform_cell` automatically in the future. Please pass the result to `transformed_cell` argument and any exception that happen during thetransform in `preprocessing_exc_tuple` in IPython 7.17 and above.\n",
      "  and should_run_async(code)\n"
     ]
    }
   ],
   "source": [
    "warnings.filterwarnings(\"ignore\")\n",
    "np.random.seed(40)\n",
    "\n",
    "# Read the wine-quality csv file from the URL\n",
    "csv_url = (\n",
    "    \"http://archive.ics.uci.edu/ml/machine-learning-databases/wine-quality/winequality-red.csv\"\n",
    ")\n",
    "try:\n",
    "    data = pd.read_csv(csv_url, sep=\";\")\n",
    "except Exception as e:\n",
    "    logger.exception(\n",
    "        \"Unable to download training & test CSV, check your internet connection. Error: %s\", e\n",
    "    )\n",
    "\n",
    "# Split the data into training and test sets. (0.75, 0.25) split.\n",
    "train, test = train_test_split(data)\n",
    "\n",
    "# The predicted column is \"quality\" which is a scalar from [3, 9]\n",
    "train_x = train.drop([\"quality\"], axis=1)\n",
    "test_x = test.drop([\"quality\"], axis=1)\n",
    "train_y = train[[\"quality\"]]\n",
    "test_y = test[[\"quality\"]]\n",
    "\n",
    "alpha = 0.5\n",
    "l1_ratio = 0.5"
   ]
  },
  {
   "cell_type": "code",
   "execution_count": 17,
   "metadata": {},
   "outputs": [],
   "source": [
    "if not mlflow.get_experiment_by_name(\"MLFlow Demo\"):\n",
    "    mlflow.create_experiment(\"MLFlow Demo\", \"/home/jovyan/shared/mlruns\")\n",
    "\n",
    "mlflow.set_experiment(\"MLFlow Demo\")"
   ]
  },
  {
   "cell_type": "code",
   "execution_count": 12,
   "metadata": {},
   "outputs": [
    {
     "name": "stderr",
     "output_type": "stream",
     "text": [
      "Successfully registered model 'ElasticnetWineModel'.\n",
      "2020/11/13 06:03:56 INFO mlflow.tracking._model_registry.client: Waiting up to 300 seconds for model version to finish creation.                     Model name: ElasticnetWineModel, version 1\n"
     ]
    },
    {
     "name": "stdout",
     "output_type": "stream",
     "text": [
      "Elasticnet model (alpha=0.500000, l1_ratio=0.500000):\n",
      "  RMSE: 0.7931640229276851\n",
      "  MAE: 0.6271946374319586\n",
      "  R2: 0.10862644997792614\n"
     ]
    },
    {
     "name": "stderr",
     "output_type": "stream",
     "text": [
      "Created version '1' of model 'ElasticnetWineModel'.\n"
     ]
    }
   ],
   "source": [
    "with mlflow.start_run():\n",
    "    lr = ElasticNet(alpha=alpha, l1_ratio=l1_ratio, random_state=42)\n",
    "    lr.fit(train_x, train_y)\n",
    "\n",
    "    predicted_qualities = lr.predict(test_x)\n",
    "\n",
    "    (rmse, mae, r2) = eval_metrics(test_y, predicted_qualities)\n",
    "\n",
    "    print(\"Elasticnet model (alpha=%f, l1_ratio=%f):\" % (alpha, l1_ratio))\n",
    "    print(\"  RMSE: %s\" % rmse)\n",
    "    print(\"  MAE: %s\" % mae)\n",
    "    print(\"  R2: %s\" % r2)\n",
    "\n",
    "    mlflow.log_param(\"alpha\", alpha)\n",
    "    mlflow.log_param(\"l1_ratio\", l1_ratio)\n",
    "    mlflow.log_metric(\"rmse\", rmse)\n",
    "    mlflow.log_metric(\"r2\", r2)\n",
    "    mlflow.log_metric(\"mae\", mae)\n",
    "\n",
    "    tracking_url_type_store = urlparse(mlflow.get_tracking_uri()).scheme\n",
    "    \n",
    "    # Model registry does not work with file store\n",
    "    if tracking_url_type_store != \"file\":\n",
    "\n",
    "        # Register the model\n",
    "        # There are other ways to use the Model Registry, which depends on the use case,\n",
    "        # please refer to the doc for more information:\n",
    "        # https://mlflow.org/docs/latest/model-registry.html#api-workflow\n",
    "        mlflow.sklearn.log_model(lr, \"model\", registered_model_name=\"ElasticnetWineModel\")\n",
    "    else:\n",
    "        mlflow.sklearn.log_model(lr, \"model\")"
   ]
  },
  {
   "cell_type": "code",
   "execution_count": null,
   "metadata": {},
   "outputs": [],
   "source": []
  }
 ],
 "metadata": {
  "kernelspec": {
   "display_name": "Python 3",
   "language": "python",
   "name": "python3"
  },
  "language_info": {
   "codemirror_mode": {
    "name": "ipython",
    "version": 3
   },
   "file_extension": ".py",
   "mimetype": "text/x-python",
   "name": "python",
   "nbconvert_exporter": "python",
   "pygments_lexer": "ipython3",
   "version": "3.8.5"
  }
 },
 "nbformat": 4,
 "nbformat_minor": 4
}
